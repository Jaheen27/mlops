{
 "cells": [
  {
   "cell_type": "code",
   "execution_count": 1,
   "id": "d4a77ded-6aa2-4dcf-b203-a9eff83ced80",
   "metadata": {},
   "outputs": [
    {
     "name": "stdout",
     "output_type": "stream",
     "text": [
      "hello world\n"
     ]
    }
   ],
   "source": [
    "print(\"hello world\")"
   ]
  },
  {
   "cell_type": "code",
   "execution_count": 11,
   "id": "407ebf5a-70df-45ea-b7c1-281144f2976b",
   "metadata": {},
   "outputs": [
    {
     "name": "stdout",
     "output_type": "stream",
     "text": [
      "simple calculator\n"
     ]
    },
    {
     "name": "stdin",
     "output_type": "stream",
     "text": [
      "enter first number 2\n",
      "enter second number 3\n",
      "enter operation(+,-,*,/): +\n"
     ]
    },
    {
     "name": "stdout",
     "output_type": "stream",
     "text": [
      "result: 5.0\n"
     ]
    }
   ],
   "source": [
    "print (\"simple calculator\")\n",
    "\n",
    "def add(a,b):\n",
    "    return a+b\n",
    "def sub(a,b):\n",
    "    return a-b\n",
    "def mul(a,b):\n",
    "    return a*b\n",
    "def div(a,b):\n",
    "    return a/b\n",
    "\n",
    "a=float(input(\"enter first number\"))\n",
    "b=float(input(\"enter second number\"))\n",
    "\n",
    "oprr=input(\"enter operation(+,-,*,/):\")\n",
    "\n",
    "if oprr==\"+\":\n",
    "    print(\"result:\",add(a,b))\n",
    "elif oprr==\"-\":\n",
    "    print(\"result:\",sub(a,b))\n",
    "elif oprr==\"*\":\n",
    "    print(\"result:\",mul(a,b))\n",
    "elif oprr==\"/\":\n",
    "    if b!=0:\n",
    "        print(\"result:\",div(a,b))\n",
    "    else:\n",
    "        print(\"error zero\")\n",
    "else:\n",
    "    print(\"invalid operation\")\n",
    "    \n",
    "    \n",
    "      \n"
   ]
  },
  {
   "cell_type": "code",
   "execution_count": null,
   "id": "05017a2d-07ff-4435-83bf-940f67758c28",
   "metadata": {},
   "outputs": [],
   "source": []
  }
 ],
 "metadata": {
  "kernelspec": {
   "display_name": "Python [conda env:base] *",
   "language": "python",
   "name": "conda-base-py"
  },
  "language_info": {
   "codemirror_mode": {
    "name": "ipython",
    "version": 3
   },
   "file_extension": ".py",
   "mimetype": "text/x-python",
   "name": "python",
   "nbconvert_exporter": "python",
   "pygments_lexer": "ipython3",
   "version": "3.12.7"
  },
  "panel-cell-order": [
   "5bab771a-f462-41e6-904a-ecbb08fc39d8"
  ]
 },
 "nbformat": 4,
 "nbformat_minor": 5
}
